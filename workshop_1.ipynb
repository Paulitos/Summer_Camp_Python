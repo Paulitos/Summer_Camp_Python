{
  "cells": [
    {
      "cell_type": "markdown",
      "metadata": {
        "colab_type": "text",
        "id": "view-in-github"
      },
      "source": [
        "<a href=\"https://colab.research.google.com/github/imruffin/FEMMESHackathon/blob/master/workshop_1.ipynb\" target=\"_parent\"><img src=\"https://colab.research.google.com/assets/colab-badge.svg\" alt=\"Open In Colab\"/></a>"
      ]
    },
    {
      "cell_type": "markdown",
      "metadata": {
        "colab_type": "text",
        "id": "rtn6Jd2CgnXK"
      },
      "source": [
        "# Saving Your Work\n",
        "\n",
        "Hopefully you have a Git account (or at least a google account).\n",
        "\n",
        "**To save this notebook for yourself in your GitHub account (preferred):**\n",
        "- Go to your GitHub home page.\n",
        "- Click the `+` icon in the upper right corner and choose `new repository`\n",
        "  - *repository: a folder on GitHub where you store code*\n",
        "- Name your repository and click the green `create repository` button.\n",
        "- Come back to this file.\n",
        "- go to `File` --> `save a copy in GitHub` in the upper toolbar\n",
        "- sign in to your GitHub account when prompted and save this in your new repository!\n",
        "\n",
        "\n",
        "**To save this notebook in your google drive**\n",
        "- go to `File` --> `save a copy in Drive` in the upper toolbar\n",
        "- It's that easy.\n",
        "\n",
        "---"
      ]
    },
    {
      "cell_type": "markdown",
      "metadata": {
        "colab_type": "text",
        "id": "rsm9H8jdaRNR"
      },
      "source": [
        "# This is a text cell.\n",
        "\n",
        "The typing format is called **Markdown**. \n",
        "\n",
        "Double click a text cell to edit!\n",
        "\n",
        "To add a new text cell, click `+ Text` button in the toolbar above.\n",
        "\n",
        "Press `\"shift\"` and `\"return\"` keys at the same time to update a text cell.\n",
        "\n",
        "---"
      ]
    },
    {
      "cell_type": "markdown",
      "metadata": {
        "colab_type": "text",
        "id": "-Ol9T2MUaziU"
      },
      "source": [
        "# Text Cell Formatting\n",
        "\n",
        "## Here's a brief syntax guide to making your text cells look nice:\n",
        "\n",
        "### Double-click on this cell to see the Markdown syntax (left) vs the updated cell appearance (right).\n",
        "\n",
        "Press `\"shift\"` and `\"return\"` keys at the same time to update a text cell.\n",
        "\n",
        "---\n",
        "# Headings\n",
        "\n",
        "# One hashtag is the largest heading size\n",
        "## Two hashtags is smaller\n",
        "### Three hashtags\n",
        "#### Four hashtags\n",
        "##### Five hashtags\n",
        "is the same as plain typing\n",
        "###### And six hashtags doesn't make it any smaller\n",
        "\n",
        "---\n",
        "\n",
        "^ three dashes adds a line across the cell to break up text.\n",
        "\n",
        "# Fonts\n",
        "\n",
        "*Sandwiching with one asterisk makes your font italicized.*\n",
        "\n",
        "**Sandwiching with two asterisks makes your font bold.**\n",
        "\n",
        "`Sandwiching with the backtick (found as the lowercase character on the tilda ~ symbol's key), NOT an apostrophe, often used to indicate this is a code snippet.`\n",
        "\n",
        "---\n",
        "\n",
        "# Lists\n",
        "\n",
        "- Use a single dash\n",
        "- to make\n",
        "- a bullet list.\n",
        "\n",
        "\n",
        "- [ ] and add square brackets (with a space between left and right!) \n",
        "- [ ] to make a task you can check off.\n",
        "- [x] Replace the space inside the brackets with an `x` to check off the task!\n"
      ]
    },
    {
      "cell_type": "markdown",
      "metadata": {
        "colab_type": "text",
        "id": "hREtLlhIfL95"
      },
      "source": [
        "# Getting Started: Hello World!"
      ]
    },
    {
      "cell_type": "code",
      "execution_count": null,
      "metadata": {
        "colab": {},
        "colab_type": "code",
        "id": "F-SFTEvZkhZu"
      },
      "outputs": [
        {
          "ename": "",
          "evalue": "",
          "output_type": "error",
          "traceback": [
            "\u001b[1;31mRunning cells with 'c:\\Users\\carme\\AppData\\Local\\Programs\\Python\\Python310\\python.exe' requires the ipykernel package.\n",
            "\u001b[1;31mRun the following command to install 'ipykernel' into the Python environment. \n",
            "\u001b[1;31mCommand: 'c:/Users/carme/AppData/Local/Programs/Python/Python310/python.exe -m pip install ipykernel -U --user --force-reinstall'"
          ]
        }
      ],
      "source": [
        "# This is a Python code cell!\n",
        "# use a hashtag at the beginning of the line to tell the computer to skip over it\n",
        "# this is also known as a \"comment\" in your code.\n",
        "\n",
        "# Make sure to add comments to help you understand your code the next time you look at it!"
      ]
    },
    {
      "cell_type": "markdown",
      "metadata": {
        "colab_type": "text",
        "id": "DhbLI56Rnn5t"
      },
      "source": [
        "## First, let's discuss variables\n",
        "\n",
        "There are many variable types. A few important types are `integer`, `float`, `string`, `boolean`, and `list`.\n",
        "\n",
        "### Variable Assignment\n",
        "\n",
        "To assign a value of any type to a variable:\n",
        "- pick a variable name that starts with a lowercase letter\n",
        "  - underscores _ and numbers are allowed after the first letter\n",
        "  - examples: `my_variable`, `my_Variable`, `myVariable2`, ..."
      ]
    },
    {
      "cell_type": "markdown",
      "metadata": {
        "colab_type": "text",
        "id": "yfnVuw4av3RY"
      },
      "source": [
        "### Integers and Floats\n",
        "\n",
        "- `integers` are whole numbers (1, 2, 3, 4, 5, ...)\n",
        "- `floats` are numbers that have decimal places (1.2, 3.8, 4.0) even if the decimal places are all 0!"
      ]
    },
    {
      "cell_type": "code",
      "execution_count": null,
      "metadata": {
        "colab": {
          "base_uri": "https://localhost:8080/",
          "height": 34
        },
        "colab_type": "code",
        "id": "utRiFnKMnouj",
        "outputId": "6f21dcd3-9b6e-4e47-ae01-941e78cfdb7b"
      },
      "outputs": [
        {
          "name": "stdout",
          "output_type": "stream",
          "text": [
            "5\n"
          ]
        }
      ],
      "source": [
        "# the variable name goes on the left, the value goes on the right:\n",
        "\n",
        "x = 5   # x is now an integer of value 5.\n",
        "z = 2\n",
        "\n",
        "y = 5.0 # y is now a float (has significant figures in decimal places)\n",
        "\n",
        "\n",
        "# To show the output of a variable or calculation, use a print() statement\n",
        "\n",
        "print(x) # prints the integer 5"
      ]
    },
    {
      "cell_type": "code",
      "execution_count": null,
      "metadata": {
        "colab": {
          "base_uri": "https://localhost:8080/",
          "height": 34
        },
        "colab_type": "code",
        "id": "zkxeYJFrrhJW",
        "outputId": "814c19d3-c5fd-4f44-c0e7-57f937c50de7"
      },
      "outputs": [
        {
          "name": "stdout",
          "output_type": "stream",
          "text": [
            "7\n"
          ]
        }
      ],
      "source": [
        "# You can use the +, -, *, / symbols for their usual mathematical meaning:\n",
        "print(x+z)\n",
        "\n",
        "# hit `shift` and `enter` keys at the same time to show this output"
      ]
    },
    {
      "cell_type": "code",
      "execution_count": null,
      "metadata": {
        "colab": {},
        "colab_type": "code",
        "id": "zi2ZRm88vOyX"
      },
      "outputs": [],
      "source": [
        "#-----------------------------------------#\n",
        "# Task: assign 3 integers to variables    #\n",
        "#       a, b, and c. Print the output     #\n",
        "#       of all three multiplied together. #\n",
        "#-----------------------------------------#\n",
        "\n",
        "a =   # type an integer between = and # symbols\n",
        "b = \n",
        "c = \n",
        "\n",
        "# now print the product of all three integers using a print statement:"
      ]
    },
    {
      "cell_type": "markdown",
      "metadata": {
        "colab_type": "text",
        "id": "_G8BNEw2q-WU"
      },
      "source": [
        "##### Click for solution:"
      ]
    },
    {
      "cell_type": "code",
      "execution_count": null,
      "metadata": {
        "colab": {
          "base_uri": "https://localhost:8080/",
          "height": 34
        },
        "colab_type": "code",
        "id": "cwXnYPD-qb6y",
        "outputId": "a00f69f5-8f2b-40a9-a8f8-76e8e677e6cc"
      },
      "outputs": [
        {
          "name": "stdout",
          "output_type": "stream",
          "text": [
            "6\n"
          ]
        }
      ],
      "source": [
        "#-----------------------------------------#\n",
        "# Task: assign 3 integers to variables    #\n",
        "#       a, b, and c. Print the output     #\n",
        "#       of all three multiplied together. #\n",
        "#-----------------------------------------#\n",
        "\n",
        "a = 1  # type an integer between = and # symbols\n",
        "b = 2\n",
        "c = 3\n",
        "\n",
        "# now output the product of all three integers using a print statement:\n",
        "\n",
        "print(a*b*c)"
      ]
    },
    {
      "cell_type": "markdown",
      "metadata": {
        "colab_type": "text",
        "id": "nAw4wvhlVCRh"
      },
      "source": [
        "### Modulo: %\n",
        "\n",
        "The % sign is an operator you may use on integers, called \"modulo\". \n",
        "\n",
        "`a%b` outputs the remainder of the division of b into a. \n",
        "\n",
        "Example: \n",
        "- The remainder of 7/2 is 1, since 7 = 2*3 + 1.\n",
        "- Thus, 7%2 is equal to 1. \n",
        "\n",
        "**Note that if a is divisible by b, then a%b equals zero.**\n",
        "\n",
        "i.e. 4%2 equals 0."
      ]
    },
    {
      "cell_type": "code",
      "execution_count": null,
      "metadata": {
        "colab": {},
        "colab_type": "code",
        "id": "-UsDMFzDU1FN"
      },
      "outputs": [],
      "source": [
        "#-----------------------------------------#\n",
        "# Task: Again assign integers to a, b,    #\n",
        "#       and c. Predict the result a%b and #\n",
        "#       a%c. Print a%b and a%c. Were your #\n",
        "#       predictions correct?              #\n",
        "#-----------------------------------------#\n",
        "\n",
        "a =   \n",
        "b = \n",
        "c = \n",
        "\n",
        "# type predictions into a comment:\n",
        "\n",
        "# now print a modulo b and a modulo c:\n"
      ]
    },
    {
      "cell_type": "markdown",
      "metadata": {
        "colab_type": "text",
        "id": "oC3GN6BeXCVO"
      },
      "source": [
        "#### Click for example solution:"
      ]
    },
    {
      "cell_type": "code",
      "execution_count": 9,
      "metadata": {
        "colab": {
          "base_uri": "https://localhost:8080/",
          "height": 51
        },
        "colab_type": "code",
        "id": "V_F9ce_5XFfb",
        "outputId": "8b700697-6b5a-4579-a0a2-85f165f90f23"
      },
      "outputs": [
        {
          "name": "stdout",
          "output_type": "stream",
          "text": [
            "4\n",
            "0\n"
          ]
        }
      ],
      "source": [
        "a = 14 \n",
        "b = 5\n",
        "c = 7\n",
        "\n",
        "# type predictions into a comment:\n",
        "# a%b equals 4, and a%c equals 0.\n",
        "\n",
        "# now print a modulo b and a modulo c:\n",
        "print(a%b)\n",
        "print(a%c)"
      ]
    },
    {
      "cell_type": "markdown",
      "metadata": {
        "colab_type": "text",
        "id": "tRhuHeqksUMv"
      },
      "source": [
        "### Strings\n",
        "\n",
        "- To make a string, use either 'single' quotes or \"double\" quotes around the word you want to assign as a string.\n",
        "\n",
        "- Strings can contain letters, spaces, and numbers\n",
        "\n",
        "- Limited operations can be performed on strings\n",
        "\n"
      ]
    },
    {
      "cell_type": "code",
      "execution_count": null,
      "metadata": {
        "colab": {},
        "colab_type": "code",
        "id": "q2FgafUdsGhL"
      },
      "outputs": [],
      "source": [
        "print(\"Hello World!\")\n",
        "\n",
        "first_string = \"This is a string\"\n",
        "\n",
        "#---------------------------------------------------#\n",
        "# Task: Print first_string.                         #\n",
        "# Question: What is the difference                  #\n",
        "#           between printing a string directly vs   #\n",
        "#           printing a string-type variable?        #\n",
        "\n",
        "# Your answer:                                       \n",
        "#---------------------------------------------------#"
      ]
    },
    {
      "cell_type": "markdown",
      "metadata": {
        "colab_type": "text",
        "id": "CIlzIDU3tLD3"
      },
      "source": [
        "##### Click for solution:"
      ]
    },
    {
      "cell_type": "code",
      "execution_count": null,
      "metadata": {
        "colab": {
          "base_uri": "https://localhost:8080/",
          "height": 51
        },
        "colab_type": "code",
        "id": "PFcQGWTwtLD6",
        "outputId": "679717c6-8056-41bf-89c5-2a936f4ed42f"
      },
      "outputs": [
        {
          "name": "stdout",
          "output_type": "stream",
          "text": [
            "Hello World!\n",
            "This is a string\n"
          ]
        }
      ],
      "source": [
        "print(\"Hello World!\")\n",
        "\n",
        "first_string = \"This is a string\"\n",
        "\n",
        "print(first_string)\n",
        "#---------------------------------------------------#\n",
        "# Task: Print first_string.                         #\n",
        "# Question: What is the difference                  #\n",
        "#           between printing a string directly vs   #\n",
        "#           printing a variable of type string?     #\n",
        "\n",
        "# Your answer: Printing a string directly, you need \n",
        "#              to make sure you use quotation marks \n",
        "#              around the string to indicate the word \n",
        "#              is a string-type rather than a variable. \n",
        "#              Printing a string type variable, you do \n",
        "#              NOT use quotation marks, so the computer \n",
        "#              knows the print() argument is a variable name.                         \n",
        "#---------------------------------------------------#"
      ]
    },
    {
      "cell_type": "markdown",
      "metadata": {
        "colab_type": "text",
        "id": "uHM2L-rj0iZU"
      },
      "source": [
        "#### Printing multiple variables in one print statement and taking input. "
      ]
    },
    {
      "cell_type": "code",
      "execution_count": null,
      "metadata": {
        "colab": {
          "base_uri": "https://localhost:8080/",
          "height": 51
        },
        "colab_type": "code",
        "id": "ZOAKYu4i0r_F",
        "outputId": "c645049f-12dc-4bed-bc9d-38d43da6133d"
      },
      "outputs": [
        {
          "name": "stdout",
          "output_type": "stream",
          "text": [
            "The product of 5*7 is  35 !\n",
            "this is another word\n"
          ]
        }
      ],
      "source": [
        "# Use a comma between variables (strings, integers, floats) to print them side-by-side.\n",
        "\n",
        "print(\"The product of 5*7 is \",5*7,\"!\")\n",
        "\n",
        "some_string = \"another word\"\n",
        "print(\"this is\",some_string)"
      ]
    },
    {
      "cell_type": "code",
      "execution_count": null,
      "metadata": {
        "colab": {
          "base_uri": "https://localhost:8080/",
          "height": 34
        },
        "colab_type": "code",
        "id": "qqRFGlWP3jpP",
        "outputId": "db88fc23-396a-42d3-fc14-4b35334dbe12"
      },
      "outputs": [
        {
          "name": "stdout",
          "output_type": "stream",
          "text": [
            "The product of 5 * the string 7  is  77777 !\n"
          ]
        }
      ],
      "source": [
        "# remember a number can be a string-type:\n",
        "# you cannot perform math operations reserved for integers and floats on a string.\n",
        "# instead, the string is repeated 7 times when multiplied by 7.\n",
        "\n",
        "some_number_string = \"7\"\n",
        "\n",
        "print(\"The product of 5 * the string\",some_number_string,\" is \",5*some_number_string,\"!\")"
      ]
    },
    {
      "cell_type": "code",
      "execution_count": null,
      "metadata": {
        "colab": {
          "base_uri": "https://localhost:8080/",
          "height": 51
        },
        "colab_type": "code",
        "id": "vmOe2-rk2AUF",
        "outputId": "ef85abd5-2e8c-4c7c-ddb7-7ad41c38fd2a"
      },
      "outputs": [
        {
          "name": "stdout",
          "output_type": "stream",
          "text": [
            "This string prompts the user to type. User, please type your age, then press enter: 3\n",
            "OK, you are  3 years old.\n"
          ]
        }
      ],
      "source": [
        "# The function input() takes what is typed from the keyboard, \n",
        "# converts it to a string, and stores it in the defined variable:\n",
        "\n",
        "my_age = input(\"This string prompts the user to type. User, please type your age, then press enter: \")\n",
        "\n",
        "print(\"OK, you are \",my_age,\"years old.\")"
      ]
    },
    {
      "cell_type": "markdown",
      "metadata": {
        "colab_type": "text",
        "id": "fa281LRMy4gL"
      },
      "source": [
        "## Exercise: Talking to your computer\n",
        "\n",
        "Goal: write a program in the cell below that interacts with the user by asking the user 3 questions:\n",
        "\n",
        "- What is your name?\n",
        "- What is your age?\n",
        "- What is your favorite color?\n",
        "\n",
        "Make the program output a summary of what it has learned about you after you answer the three questions. For example, if I input Isabel, 21, and gray, the output may be: Your name is Isabel, you are 21, and your favorite color is gray."
      ]
    },
    {
      "cell_type": "code",
      "execution_count": null,
      "metadata": {
        "colab": {},
        "colab_type": "code",
        "id": "dUljLhDhsZww"
      },
      "outputs": [],
      "source": [
        "# Write your code here"
      ]
    },
    {
      "cell_type": "markdown",
      "metadata": {
        "colab_type": "text",
        "id": "uFIkbuZkzlCn"
      },
      "source": [
        "#### Click for potential solution:"
      ]
    },
    {
      "cell_type": "code",
      "execution_count": null,
      "metadata": {
        "colab": {
          "base_uri": "https://localhost:8080/",
          "height": 105
        },
        "colab_type": "code",
        "id": "BVY4tJ8ZzoYL",
        "outputId": "d9dcc0a8-35f4-4508-bebc-2d0f12152925"
      },
      "outputs": [
        {
          "name": "stdout",
          "output_type": "stream",
          "text": [
            "User, please type your name, then press enter: gia\n",
            "User, please type your age, then press enter: 21\n",
            "User, please type your favorite color, then press enter: kinda greenish, but also a little blue\n",
            "Hi  gia , you are  21 years old and your favorite color is  kinda greenish, but also a little blue .\n"
          ]
        }
      ],
      "source": [
        "# Write your code here\n",
        "\n",
        "user_name = input(\"User, please type your name, then press enter: \")\n",
        "user_age = input(\"User, please type your age, then press enter: \")\n",
        "user_color = input(\"User, please type your favorite color, then press enter: \")\n",
        "\n",
        "print(\"Hi \",user_name,\", you are \",user_age,\"years old and your favorite color is \",user_color,\".\")"
      ]
    },
    {
      "cell_type": "markdown",
      "metadata": {
        "colab_type": "text",
        "id": "zDTc4fkIMCT7"
      },
      "source": [
        "# Logic, Lists, For Loops, and Functions"
      ]
    },
    {
      "cell_type": "markdown",
      "metadata": {
        "colab_type": "text",
        "id": "kguPx4c4-oYV"
      },
      "source": [
        "## Logic: `if`, `True`, and `False`\n",
        "\n",
        "`if` statements and Boolean values are essential components of any program."
      ]
    },
    {
      "cell_type": "markdown",
      "metadata": {
        "colab_type": "text",
        "id": "G8EVKrBgRur7"
      },
      "source": [
        "\n",
        "### if statement\n",
        "\n",
        "An `if` statement reads as:\n",
        "- `if` true statement:\n",
        "  - then do something"
      ]
    },
    {
      "cell_type": "code",
      "execution_count": 2,
      "metadata": {
        "colab": {
          "base_uri": "https://localhost:8080/",
          "height": 34
        },
        "colab_type": "code",
        "id": "p6OZ7PNZPW-V",
        "outputId": "2dadb990-33c8-4612-9b08-36b0261fb744"
      },
      "outputs": [
        {
          "name": "stdout",
          "output_type": "stream",
          "text": [
            "Hello World\n"
          ]
        }
      ],
      "source": [
        "# if statements are executed as follows:\n",
        "\n",
        "if True:\n",
        "  print(\"Hello World\")\n",
        "\n",
        "# ^the indentation is required for any line of code you want \n",
        "#  executed inside the if statement.\n",
        "\n",
        "# running this cell shows that since the if statement is true, \n",
        "# the code inside the if statement is executed.\n",
        "\n",
        "#---------------------------------------------------#\n",
        "# Question: What happens when you run the cell      #\n",
        "#           when you change True to False in the    #\n",
        "#           if statement above? Why?                #\n",
        "#                                                   #\n",
        "# Your answer:                                       \n",
        "#---------------------------------------------------#"
      ]
    },
    {
      "cell_type": "markdown",
      "metadata": {
        "colab_type": "text",
        "id": "mVIcwgWvSxtF"
      },
      "source": [
        "#### Click for solution:"
      ]
    },
    {
      "cell_type": "code",
      "execution_count": null,
      "metadata": {
        "colab": {},
        "colab_type": "code",
        "id": "RIs44J0RSwfp"
      },
      "outputs": [],
      "source": [
        "#---------------------------------------------------#\n",
        "# Question: What happens when you run the cell      #\n",
        "#           when you change True to False in the    #\n",
        "#           if statement above? Why?                #\n",
        "#                                                   #\n",
        "# Answer:  Nothing prints. Since the if statement\n",
        "#          Boolean value is False, you are telling\n",
        "#          the computer to ignore the code inside\n",
        "#          the if statement.                            \n",
        "#---------------------------------------------------#\n",
        "\n",
        "if False:\n",
        "  print(\"Hello World\")"
      ]
    },
    {
      "cell_type": "markdown",
      "metadata": {
        "colab_type": "text",
        "id": "3ToGMufYRoOn"
      },
      "source": [
        "### The Boolean type\n",
        "\n",
        "The Boolean type variable can take on two values: `True` and `False`.\n",
        "\n",
        "You can assign a Boolean to a variable, such as:\n",
        "\n",
        "`x = True`\n",
        "\n",
        "or use a comparison between two numbers to make a Boolean statement. Here is a guide to comparison symbols, where `a` and `b` are numbers:\n",
        "\n",
        "`a == b` : `a` is equal to `b`\n",
        "\n",
        "`a != b` : `a` is NOT equal to `b`\n",
        "\n",
        "`a < b` : `a` is less than `b`\n",
        "\n",
        "`(a > b) and (a < c)` : `a` is greater than `b` AND `a` is less than `c`\n",
        "\n",
        "`(a > b) or (a < c)` : `a` is greater than `b` OR `a` is less than `c`"
      ]
    },
    {
      "cell_type": "code",
      "execution_count": 6,
      "metadata": {
        "colab": {
          "base_uri": "https://localhost:8080/",
          "height": 34
        },
        "colab_type": "code",
        "id": "y_MCu86mKoLo",
        "outputId": "84f324a0-48da-48b9-fb1d-a39b44f86420"
      },
      "outputs": [
        {
          "name": "stdout",
          "output_type": "stream",
          "text": [
            "True\n"
          ]
        }
      ],
      "source": [
        "# a comparison between two numbers outputs either True or False:\n",
        "\n",
        "my_bool = 2 < 5 \n",
        "# running the cell shows that the expression (2 < 5) has the value True.\n",
        "\n",
        "print(my_bool)"
      ]
    },
    {
      "cell_type": "code",
      "execution_count": 12,
      "metadata": {
        "colab": {
          "base_uri": "https://localhost:8080/",
          "height": 34
        },
        "colab_type": "code",
        "id": "wKblS21pT7fs",
        "outputId": "eee363f6-f263-410c-c268-575f6d4cd1be"
      },
      "outputs": [
        {
          "name": "stdout",
          "output_type": "stream",
          "text": [
            "2 < 5 is True.\n"
          ]
        }
      ],
      "source": [
        "# putting it all together:\n",
        "\n",
        "if (2 < 5):\n",
        "  print(\"2 < 5 is True.\")"
      ]
    },
    {
      "cell_type": "code",
      "execution_count": 13,
      "metadata": {
        "colab": {
          "base_uri": "https://localhost:8080/",
          "height": 34
        },
        "colab_type": "code",
        "id": "PatILPcfYXNc",
        "outputId": "0f09ea1a-a6d1-4925-c285-b861c8aab32b"
      },
      "outputs": [
        {
          "name": "stdout",
          "output_type": "stream",
          "text": [
            "5 is not equal to 7. This is a true statement\n"
          ]
        }
      ],
      "source": [
        "x = (5 != 7)\n",
        "if x:\n",
        "  print(\"5 is not equal to 7. This is a true statement\")"
      ]
    },
    {
      "cell_type": "code",
      "execution_count": 18,
      "metadata": {
        "colab": {
          "base_uri": "https://localhost:8080/",
          "height": 34
        },
        "colab_type": "code",
        "id": "DOBbVWa8ZnSA",
        "outputId": "b2da644c-acd3-4e64-b40a-d4ca3c6469d7"
      },
      "outputs": [
        {
          "name": "stdout",
          "output_type": "stream",
          "text": [
            "This prints but the if statement below does not print.\n"
          ]
        }
      ],
      "source": [
        "a = 7\n",
        "b = 5\n",
        "c = 2\n",
        "\n",
        "if (a < b) or (a > c):\n",
        "  print(\"This prints but the if statement below does not print.\")\n",
        "\n",
        "if (a < b) and (a > c):\n",
        "  print(\"This does not print!\")"
      ]
    },
    {
      "cell_type": "markdown",
      "metadata": {
        "colab_type": "text",
        "id": "ocX8I_icbd8Q"
      },
      "source": [
        "## Lists\n",
        "\n",
        "Lists are another data type in Python, just like integers, strings, and booleans.\n",
        "\n",
        "You can put whatever data types you want in a list!"
      ]
    },
    {
      "cell_type": "code",
      "execution_count": null,
      "metadata": {
        "colab": {},
        "colab_type": "code",
        "id": "ltSUZZX5YciQ"
      },
      "outputs": [],
      "source": [
        "# example lists: you can mix and match types\n",
        "\n",
        "my_first_list = [1,2,3,4] \n",
        "\n",
        "###\n",
        "\n",
        "string_list = [\"one\",\"two\",\"three\",\"four\"]\n",
        "\n",
        "###\n",
        "\n",
        "a = 1\n",
        "b = 2\n",
        "c = \"this is a string!\"\n",
        "d = True\n",
        "\n",
        "mixed_list = [a,b,c,d]"
      ]
    },
    {
      "cell_type": "code",
      "execution_count": 23,
      "metadata": {
        "colab": {
          "base_uri": "https://localhost:8080/",
          "height": 51
        },
        "colab_type": "code",
        "id": "DM-BzLKuZBv2",
        "outputId": "47048894-d73d-46ae-ccfa-890ad1ef475a"
      },
      "outputs": [
        {
          "name": "stdout",
          "output_type": "stream",
          "text": [
            "The list now contains 7 at the end!\n",
            "[1, 2, 3, 4, 7]\n"
          ]
        }
      ],
      "source": [
        "# You can add items to a list after it is created using list.append(item)\n",
        "\n",
        "my_list = [1,2,3,4]\n",
        "\n",
        "my_list.append(7)\n",
        "\n",
        "print(\"The list now contains 7 at the end!\")\n",
        "print(my_list)"
      ]
    },
    {
      "cell_type": "code",
      "execution_count": 26,
      "metadata": {
        "colab": {
          "base_uri": "https://localhost:8080/",
          "height": 34
        },
        "colab_type": "code",
        "id": "hsVJRv-zdUvO",
        "outputId": "3e9eb704-706e-4f42-f154-a0474e3ba974"
      },
      "outputs": [
        {
          "name": "stdout",
          "output_type": "stream",
          "text": [
            "my_list has 4 items in it.\n"
          ]
        }
      ],
      "source": [
        "# len(list) gives the length of (number of items in) a list:\n",
        "\n",
        "my_list = [0,1,2,3]\n",
        "\n",
        "length = len(my_list)\n",
        "\n",
        "print(\"my_list has\",length,\"items in it.\")\n"
      ]
    },
    {
      "cell_type": "code",
      "execution_count": 27,
      "metadata": {
        "colab": {
          "base_uri": "https://localhost:8080/",
          "height": 34
        },
        "colab_type": "code",
        "id": "BxV0_FwgeEz-",
        "outputId": "ca7a405e-0cb0-4043-8bb8-d1ed805d6cd5"
      },
      "outputs": [
        {
          "name": "stdout",
          "output_type": "stream",
          "text": [
            "3 is in my_list\n"
          ]
        }
      ],
      "source": [
        "# checking whether a value is in a list can be used as a Boolean:\n",
        "\n",
        "my_list = [0,1,2,3]\n",
        "\n",
        "i = 3\n",
        "\n",
        "if i in my_list:\n",
        "  print(i,\"is in my_list\")"
      ]
    },
    {
      "cell_type": "code",
      "execution_count": null,
      "metadata": {},
      "outputs": [],
      "source": [
        "#changing a list \n"
      ]
    },
    {
      "cell_type": "markdown",
      "metadata": {
        "colab_type": "text",
        "id": "izwmct9SgPVU"
      },
      "source": [
        "## For loops:\n",
        "\n",
        "You can iterate through a list or a range of numbers using a `for` loop."
      ]
    },
    {
      "cell_type": "code",
      "execution_count": 29,
      "metadata": {
        "colab": {
          "base_uri": "https://localhost:8080/",
          "height": 68
        },
        "colab_type": "code",
        "id": "PrBzgd7jfYiZ",
        "outputId": "73e068ef-0cf8-45da-ee3a-c7126d326bb0"
      },
      "outputs": [
        {
          "name": "stdout",
          "output_type": "stream",
          "text": [
            "pie\n",
            "cake\n",
            "cookie\n"
          ]
        }
      ],
      "source": [
        "my_list = [\"pie\",\"cake\",\"cookie\"]\n",
        "\n",
        "for item in my_list:\n",
        "  print(item)"
      ]
    },
    {
      "cell_type": "code",
      "execution_count": 31,
      "metadata": {
        "colab": {
          "base_uri": "https://localhost:8080/",
          "height": 187
        },
        "colab_type": "code",
        "id": "KSY8_UcZg1ik",
        "outputId": "4514325d-bf01-4d87-ebe5-bd51b30c77e1"
      },
      "outputs": [
        {
          "name": "stdout",
          "output_type": "stream",
          "text": [
            "0\n",
            "1\n",
            "2\n",
            "3\n",
            "4\n",
            "5\n",
            "6\n",
            "7\n",
            "8\n",
            "9\n"
          ]
        }
      ],
      "source": [
        "# to iterate through a range of consecutive integers starting from 0\n",
        "# use the following syntax:\n",
        "\n",
        "# NOTE range(10) does NOT include 10!\n",
        "\n",
        "for item in range(10):\n",
        "  print(item)"
      ]
    },
    {
      "cell_type": "markdown",
      "metadata": {
        "colab_type": "text",
        "id": "0D2Xr6AtqSop"
      },
      "source": [
        "If you want to skip certain items during a for loop, such as even numbers in a range, use an `if` statement with `continue` as demonstrated below."
      ]
    },
    {
      "cell_type": "code",
      "execution_count": 38,
      "metadata": {
        "colab": {
          "base_uri": "https://localhost:8080/",
          "height": 102
        },
        "colab_type": "code",
        "id": "T7751zjzqUM-",
        "outputId": "1309d8a9-2118-4e64-c5a7-03db345f89e7"
      },
      "outputs": [
        {
          "name": "stdout",
          "output_type": "stream",
          "text": [
            "1\n",
            "3\n",
            "5\n",
            "7\n",
            "9\n"
          ]
        }
      ],
      "source": [
        "for item in range(10):\n",
        "\n",
        "  if item%2 == 0: # if the number is even\n",
        "    continue      # move to the next item\n",
        "\n",
        "  print(item)"
      ]
    },
    {
      "cell_type": "markdown",
      "metadata": {
        "colab_type": "text",
        "id": "8jgaHq_0jFeN"
      },
      "source": [
        "## Functions\n",
        "\n",
        "A function allows you to perform an operation on any input and returns the desired output."
      ]
    },
    {
      "cell_type": "code",
      "execution_count": null,
      "metadata": {
        "colab": {},
        "colab_type": "code",
        "id": "Q9GX6bWIivRj"
      },
      "outputs": [],
      "source": [
        "# There are two required components to every function:\n",
        "\n",
        "def my_function(my_input): # this line defines the function and input variables\n",
        "  return my_input          # this line is the function's output\n",
        "\n",
        "# ^ note the indentation (one tab)\n",
        "# this tells the computer that `return my_input` is part of my_function."
      ]
    },
    {
      "cell_type": "code",
      "execution_count": null,
      "metadata": {
        "colab": {},
        "colab_type": "code",
        "id": "cWZSMMikkWae"
      },
      "outputs": [],
      "source": [
        "# here's a familiar example: \n",
        "# the function y(x) = m*x+b describing a line.\n",
        "\n",
        "def y(x):\n",
        "  m = 2.0 # slope of the line\n",
        "  b = 1.0 # y-intercept of the line\n",
        "  answer = m*x+b\n",
        "  return answer\n",
        "\n",
        "x = 5.0\n",
        "output = y(x) # when you tell the computer to run the function, you are \"calling\" the function\n",
        "\n",
        "# running this cell shows the expected output of 11.0\n",
        "print(\"y(\",x,\") = \",output)"
      ]
    },
    {
      "cell_type": "code",
      "execution_count": null,
      "metadata": {
        "colab": {},
        "colab_type": "code",
        "id": "yHdYmJMcmXjD"
      },
      "outputs": [],
      "source": [
        "#---------------------------------------------------#\n",
        "# Task: build a function that returns squares_list\n",
        "#       filled with the square of each integer up to \n",
        "#       but not including an integer n. Run your function \n",
        "#       for n = 10 and check your return value with the\n",
        "#       sample solution.\n",
        "#---------------------------------------------------#\n",
        "\n",
        "squares_list = []\n",
        "\n",
        "# your code here"
      ]
    },
    {
      "cell_type": "markdown",
      "metadata": {
        "colab_type": "text",
        "id": "7jV27ElCm_3m"
      },
      "source": [
        "### Click for possible solution:"
      ]
    },
    {
      "cell_type": "code",
      "execution_count": 36,
      "metadata": {
        "colab": {
          "base_uri": "https://localhost:8080/",
          "height": 34
        },
        "colab_type": "code",
        "id": "vqkVLX6OnIPf",
        "outputId": "f3a4c0cf-af2c-4641-d819-dc25860101c0"
      },
      "outputs": [
        {
          "name": "stdout",
          "output_type": "stream",
          "text": [
            "[0, 1, 4, 9, 16, 25, 36, 49, 64, 81]\n"
          ]
        }
      ],
      "source": [
        "#---------------------------------------------------#\n",
        "# Task: build a function that returns squares_list\n",
        "#       filled with the square of each integer up to \n",
        "#       but not including an integer n. Run your function \n",
        "#       for n = 10 and check your return value with the\n",
        "#       sample solution.\n",
        "#---------------------------------------------------#\n",
        "\n",
        "squares_list = []\n",
        "\n",
        "def squaring_numbers(n):\n",
        "  for num in range(n):\n",
        "    squares_list.append(num*num)\n",
        "  \n",
        "  return squares_list\n",
        "\n",
        "\n",
        "print(squaring_numbers(10))\n"
      ]
    },
    {
      "cell_type": "markdown",
      "metadata": {
        "colab_type": "text",
        "id": "BQEE_uxola99"
      },
      "source": [
        "## Exercise: Fizz Buzz Function\n",
        "\n",
        "Create a function that prints each number in the range 0 up to an input integer `n`, EXCEPT it must instead print \"fizz\" on every integer divisible by 3, \"buzz\" on every integer divisible by 5, and \"fizz buzz\" on integers divisible by both 3 and 5. Have your function return `None`. **`None` is a null value we  use as a 'dummy' return value since we don't care what this function returns-- only what it prints.**\n",
        "\n",
        "You may need to look back through what you've learned so far, as this exercise uses several concepts.\n",
        "\n",
        "*Call your function for n = 20 and make sure the output matches the sample solution output to check your work!!*"
      ]
    },
    {
      "cell_type": "code",
      "execution_count": null,
      "metadata": {
        "colab": {},
        "colab_type": "code",
        "id": "CaC22TLHkSIY"
      },
      "outputs": [],
      "source": [
        "# your code here"
      ]
    },
    {
      "cell_type": "markdown",
      "metadata": {
        "colab_type": "text",
        "id": "M5Ad3G_QlwvU"
      },
      "source": [
        "### Click for possible solution"
      ]
    },
    {
      "cell_type": "code",
      "execution_count": null,
      "metadata": {
        "colab": {},
        "colab_type": "code",
        "id": "o8iG0ZA8lZzA"
      },
      "outputs": [
        {
          "ename": "",
          "evalue": "",
          "output_type": "error",
          "traceback": [
            "\u001b[1;31mRunning cells with 'c:\\Users\\carme\\AppData\\Local\\Programs\\Python\\Python310\\python.exe' requires the ipykernel package.\n",
            "\u001b[1;31mRun the following command to install 'ipykernel' into the Python environment. \n",
            "\u001b[1;31mCommand: 'c:/Users/carme/AppData/Local/Programs/Python/Python310/python.exe -m pip install ipykernel -U --user --force-reinstall'"
          ]
        }
      ],
      "source": [
        "# your code here\n",
        "\n",
        "def fizzbuzz(n):\n",
        "  for i in range(n):\n",
        "\n",
        "    if (i%3 == 0) and (i%5 == 0):\n",
        "      print(\"fizz\",\"buzz\")\n",
        "      continue    \n",
        "\n",
        "    if i % 3 == 0:\n",
        "      print(\"fizz\")\n",
        "      continue\n",
        "\n",
        "    if i % 5 == 0: \n",
        "      print(\"buzz\")\n",
        "      continue\n",
        "\n",
        "    else:\n",
        "      print(i)\n",
        "\n",
        "  return None\n",
        "\n",
        "fizzbuzz(20)"
      ]
    },
    {
      "cell_type": "markdown",
      "metadata": {
        "colab_type": "text",
        "id": "Ox9GzbeqrOZL"
      },
      "source": [
        "# Finished! Save your work and move on to `workshop_2.ipynb`"
      ]
    },
    {
      "cell_type": "code",
      "execution_count": null,
      "metadata": {
        "colab": {},
        "colab_type": "code",
        "id": "q1odn6sTsEV7"
      },
      "outputs": [],
      "source": []
    }
  ],
  "metadata": {
    "colab": {
      "include_colab_link": true,
      "name": "workshop_1.ipynb",
      "provenance": [],
      "toc_visible": true
    },
    "kernelspec": {
      "display_name": "Python 3",
      "name": "python3"
    },
    "language_info": {
      "name": "python",
      "version": "3.10.7"
    }
  },
  "nbformat": 4,
  "nbformat_minor": 0
}
